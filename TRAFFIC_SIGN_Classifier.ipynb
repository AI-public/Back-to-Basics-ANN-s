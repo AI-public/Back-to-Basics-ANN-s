{
  "nbformat": 4,
  "nbformat_minor": 0,
  "metadata": {
    "colab": {
      "name": "TRAFFIC_SIGN_Classifier.ipynb",
      "provenance": [],
      "collapsed_sections": [],
      "machine_shape": "hm",
      "authorship_tag": "ABX9TyP+yUXezrvyGapmi1BRfGjW",
      "include_colab_link": true
    },
    "kernelspec": {
      "name": "python3",
      "display_name": "Python 3"
    },
    "language_info": {
      "name": "python"
    },
    "accelerator": "GPU"
  },
  "cells": [
    {
      "cell_type": "markdown",
      "metadata": {
        "id": "view-in-github",
        "colab_type": "text"
      },
      "source": [
        "<a href=\"https://colab.research.google.com/github/AI-public/Back-to-Basics-Autoencoder/blob/main/TRAFFIC_SIGN_Classifier.ipynb\" target=\"_parent\"><img src=\"https://colab.research.google.com/assets/colab-badge.svg\" alt=\"Open In Colab\"/></a>"
      ]
    },
    {
      "cell_type": "code",
      "metadata": {
        "id": "R-Xb0quKr5Dw"
      },
      "source": [
        "#downloading the data and unzipping it:\n",
        "\n",
        "!gdown https://drive.google.com/uc?id=1wAEwM1k66AAYHPtVFwPjXyCm4LOm5Wjg\n",
        "!unzip archive.zip"
      ],
      "execution_count": null,
      "outputs": []
    },
    {
      "cell_type": "code",
      "metadata": {
        "id": "zzA7pQWy2j4Z"
      },
      "source": [
        "#resizing and saving imges in B&W\n",
        "\n",
        "import cv2\n",
        "import os\n",
        "import numpy as np\n",
        "import matplotlib.pyplot as plt\n",
        "import matplotlib.image as mpimg\n",
        "dsize = (64,64)\n",
        "\n",
        "images = []\n",
        "\n",
        "for i in range(0,43):\n",
        "\n",
        "  folder='train/'+str(i)+'/'\n",
        "  for filename in os.listdir(folder):\n",
        "      img = cv2.resize(cv2.imread(os.path.join(folder,filename),0), dsize).reshape(64*64)\n",
        "      img=(np.concatenate(([i],img)))\n",
        "      if img is not None:\n",
        "          images.append(img)\n",
        "\n",
        "  \n",
        "all_images_GT=np.array(images)"
      ],
      "execution_count": null,
      "outputs": []
    },
    {
      "cell_type": "code",
      "metadata": {
        "colab": {
          "base_uri": "https://localhost:8080/"
        },
        "id": "U5LBU6ZtZzoG",
        "outputId": "d95e9635-6493-4393-ee06-46af81980d87"
      },
      "source": [
        "print(all_images_GT[:,0])"
      ],
      "execution_count": null,
      "outputs": [
        {
          "output_type": "stream",
          "text": [
            "[ 0  0  0 ... 42 42 42]\n"
          ],
          "name": "stdout"
        }
      ]
    },
    {
      "cell_type": "code",
      "metadata": {
        "colab": {
          "base_uri": "https://localhost:8080/",
          "height": 265
        },
        "id": "JNcKSG625_wW",
        "outputId": "0e5cc087-7fae-4f02-ee31-5acce8f3c8bb"
      },
      "source": [
        "#Checking the image's extraction went well...\n",
        "\n",
        "#np.shape(all_images_GT) (39209, 4097)\n",
        "#Must be run ONLY ONCE to ensure 'testing' data is NEVER made available to the ANN\n",
        "##################################################\n",
        "#np.random.shuffle(all_images_GT) \n",
        "#np.save('all_train_dat',all_images_GT)\n",
        "##################################################\n",
        "\n",
        "\n",
        "all_images_GT=np.load('all_train_dat.npy')\n",
        "\n",
        "train_x=all_images_GT[10000:,:]\n",
        "test_x=all_images_GT[:10000,:]\n",
        "#Testing 1..2..3\n",
        "image_id=9\n",
        "plt.figure()\n",
        "plt.axis('off')\n",
        "plt.imshow(train_x[image_id,1:].reshape(64,64), interpolation='none', cmap='gray')\n",
        "print(train_x[image_id,0])\n",
        "plt.show()"
      ],
      "execution_count": null,
      "outputs": [
        {
          "output_type": "stream",
          "text": [
            "9\n"
          ],
          "name": "stdout"
        },
        {
          "output_type": "display_data",
          "data": {
            "image/png": "[encoded data removed]",
            "text/plain": [
              "<Figure size 432x288 with 1 Axes>"
            ]
          },
          "metadata": {
            "tags": [],
            "needs_background": "light"
          }
        }
      ]
    },
    {
      "cell_type": "code",
      "metadata": {
        "id": "JbVM7zVLT_Fi"
      },
      "source": [
        "# medium model 169,083 params.\n",
        "from __future__ import print_function\n",
        "import numpy as np\n",
        "import cv2\n",
        "import keras\n",
        "import numpy as np\n",
        "from keras.models import Model\n",
        "from keras.optimizers import RMSprop,SGD\n",
        "from keras.models import Sequential\n",
        "from keras.layers import Dense,LeakyReLU\n",
        "import matplotlib.pyplot as plt\n",
        "import matplotlib.image as mpimg\n",
        "from sklearn.model_selection import train_test_split\n",
        "from keras.layers import Activation,Dropout,Input,Conv2D,MaxPooling2D,UpSampling2D,AveragePooling2D,Conv1D,Reshape,Flatten,BatchNormalization\n",
        "from keras.utils import to_categorical\n",
        "from keras.layers import LeakyReLU\n",
        "from keras.models import load_model\n",
        "from keras.callbacks import ModelCheckpoint\n",
        "\n",
        "model = Sequential()\n",
        "\n",
        "model.add(Conv2D(20, (5, 5), padding=\"same\",input_shape = (64,64,1)))\n",
        "model.add(Activation(LeakyReLU(alpha=0.1)))\n",
        "model.add(MaxPooling2D(pool_size=(2, 2), strides=(2, 2)))\n",
        "model.add(Conv2D(40, (5, 5), padding=\"same\"))\n",
        "model.add(Activation(LeakyReLU(alpha=0.1)))\n",
        "model.add(MaxPooling2D(pool_size=(2, 2), strides=(2, 2)))\n",
        "model.add(Conv2D(40, (5, 5), padding=\"same\"))\n",
        "model.add(Activation(LeakyReLU(alpha=0.1)))\n",
        "model.add(MaxPooling2D(pool_size=(2, 2), strides=(2, 2)))\n",
        "model.add(Conv2D(40, (5, 5), padding=\"same\"))\n",
        "model.add(Activation(LeakyReLU(alpha=0.1)))\n",
        "model.add(MaxPooling2D(pool_size=(2, 2), strides=(2, 2)))\n",
        "model.add(Flatten())\n",
        "model.add(Dense(100, activation=LeakyReLU(alpha=0.1)))\n",
        "model.add(Dense(43, activation='softmax'))\n",
        "\n",
        "\n",
        "model.summary()\n",
        "model.compile(optimizer='adam', loss='categorical_crossentropy',metrics=['accuracy'])\n",
        "\n",
        "filepath=\"model.hdf5\" #val_accuracy = 0.99910/// val!=test\n",
        "model.load_weights(\"model.hdf5\")\n",
        "\n",
        "#use model.predict(...)\n",
        "\n"
      ],
      "execution_count": null,
      "outputs": []
    },
    {
      "cell_type": "code",
      "metadata": {
        "id": "F9Z505OP6ST6"
      },
      "source": [
        "#  small model 89,003 params.\n",
        "from __future__ import print_function\n",
        "import numpy as np\n",
        "import cv2\n",
        "import keras\n",
        "import numpy as np\n",
        "from keras.models import Model\n",
        "from keras.optimizers import RMSprop,SGD\n",
        "from keras.models import Sequential\n",
        "from keras.layers import Dense,LeakyReLU\n",
        "import matplotlib.pyplot as plt\n",
        "import matplotlib.image as mpimg\n",
        "from sklearn.model_selection import train_test_split\n",
        "from keras.layers import Activation,Dropout,Input,Conv2D,MaxPooling2D,UpSampling2D,AveragePooling2D,Conv1D,Reshape,Flatten,BatchNormalization\n",
        "from keras.utils import to_categorical\n",
        "from keras.layers import LeakyReLU\n",
        "from keras.models import load_model\n",
        "from keras.callbacks import ModelCheckpoint\n",
        "\n",
        "\n",
        "\n",
        "\n",
        "model = Sequential()\n",
        "model.add(Conv2D(20, (5, 5), padding=\"same\",input_shape = (64,64,1)))\n",
        "model.add(Activation(LeakyReLU(alpha=0.1)))\n",
        "model.add(MaxPooling2D(pool_size=(3, 3), strides=(3, 3)))\n",
        "model.add(Conv2D(40, (5, 5), padding=\"same\"))\n",
        "model.add(Activation(LeakyReLU(alpha=0.1)))\n",
        "model.add(MaxPooling2D(pool_size=(5, 5), strides=(5, 5)))\n",
        "model.add(Flatten())\n",
        "model.add(Dense(100, activation=LeakyReLU(alpha=0.1)))\n",
        "model.add(Dense(43, activation='softmax'))\n",
        "\n",
        "\n",
        "\n",
        "\n",
        "\n",
        "model.summary()\n",
        "model.compile(optimizer='adam', loss='categorical_crossentropy',metrics=['accuracy'])\n",
        "\n",
        "filepath=\"model_s.hdf5\" #val_accuracy improved from 0.99330 to 0.99360, saving model to model_s.hdf5\n",
        "checkpoint = ModelCheckpoint(filepath, monitor='val_accuracy', verbose=1, save_best_only=True, mode='max')\n",
        "callbacks_list = [checkpoint]\n",
        "model.load_weights(\"model_s.hdf5\")\n",
        "\n"
      ],
      "execution_count": null,
      "outputs": []
    },
    {
      "cell_type": "code",
      "metadata": {
        "id": "kwX9f__0bKGU"
      },
      "source": [
        ""
      ],
      "execution_count": null,
      "outputs": []
    },
    {
      "cell_type": "code",
      "metadata": {
        "id": "QHeYzVcObKxH"
      },
      "source": [
        "# Very small model 29,123 params.\n",
        "\n",
        "from __future__ import print_function\n",
        "import numpy as np\n",
        "import cv2\n",
        "import keras\n",
        "from keras import regularizers\n",
        "import numpy as np\n",
        "from keras.models import Model\n",
        "from keras.optimizers import RMSprop,SGD\n",
        "from keras.models import Sequential\n",
        "from keras.layers import Dense,LeakyReLU\n",
        "import matplotlib.pyplot as plt\n",
        "import matplotlib.image as mpimg\n",
        "from sklearn.model_selection import train_test_split\n",
        "from keras.layers import Activation,Dropout,Input,Conv2D,MaxPooling2D,UpSampling2D,AveragePooling2D,Conv1D,Reshape,Flatten,BatchNormalization\n",
        "from keras.utils import to_categorical\n",
        "from keras.layers import LeakyReLU\n",
        "from keras.models import load_model\n",
        "from keras.callbacks import ModelCheckpoint\n",
        "\n",
        "model = Sequential()\n",
        "model.add(Conv2D(20, (5, 5), padding=\"same\",input_shape = (64,64,1)))\n",
        "model.add(Activation(LeakyReLU(alpha=0.1)))\n",
        "model.add(MaxPooling2D(pool_size=(5, 5), strides=(5, 5)))\n",
        "model.add(Conv2D(40, (3, 3), padding=\"same\"))\n",
        "model.add(Activation(LeakyReLU(alpha=0.1)))\n",
        "model.add(MaxPooling2D(pool_size=(3, 3), strides=(3,3 )))\n",
        "model.add(Conv2D(40, (3, 3), padding=\"same\"))\n",
        "model.add(Activation(LeakyReLU(alpha=0.1)))\n",
        "model.add(MaxPooling2D(pool_size=(2,2), strides=(2,2)))\n",
        "model.add(Flatten())\n",
        "model.add(Dense(43, activation='softmax'))\n",
        "\n",
        "\n",
        "\n",
        "\n",
        "\n",
        "model.summary()\n",
        "model.compile(optimizer='adam', loss='categorical_crossentropy',metrics=['accuracy'])\n",
        "\n",
        "filepath=\"model_xs.hdf5\"\n",
        "checkpoint = ModelCheckpoint(filepath, monitor='val_accuracy', verbose=1, save_best_only=True, mode='max')\n",
        "callbacks_list = [checkpoint]\n",
        "model.load_weights(\"model_s.hdf5\")#val_accuracy improved from 0.98390 to 0.98520, saving model to model_xs.hdf5\n",
        "\n",
        "\n",
        "\n"
      ],
      "execution_count": null,
      "outputs": []
    }
  ]
}